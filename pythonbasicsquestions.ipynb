{
  "nbformat": 4,
  "nbformat_minor": 0,
  "metadata": {
    "colab": {
      "provenance": []
    },
    "kernelspec": {
      "name": "python3",
      "display_name": "Python 3"
    },
    "language_info": {
      "name": "python"
    }
  },
  "cells": [
    {
      "cell_type": "markdown",
      "source": [
        "#python basics question ."
      ],
      "metadata": {
        "id": "lZ5Z43BF2NJO"
      }
    },
    {
      "cell_type": "code",
      "source": [],
      "metadata": {
        "id": "ygqZSgbfis1_"
      },
      "execution_count": null,
      "outputs": []
    },
    {
      "cell_type": "markdown",
      "source": [
        "1. what is python and why it is it popular?\n",
        "\n",
        " -  python is a high-level, general-purpose programming language.  \n",
        "   - it is easy to learn and write.  \n",
        "   - versatile.  \n",
        "   - lots of libraries  \n",
        "   - growing field (data science & AI where python dominates)"
      ],
      "metadata": {
        "id": "2w0kFXrv2voF"
      }
    },
    {
      "cell_type": "markdown",
      "source": [
        "2. what is interpreter in python?\n",
        "   -   An interpreter is a programe that reads and execute the programe line by line."
      ],
      "metadata": {
        "id": "NPeiSEPuDvrD"
      }
    },
    {
      "cell_type": "markdown",
      "source": [
        "3. what are pre-define function in python.\n",
        "   -  predefined fuctions in python are the built in function that come with python, and you can use them directly without defining them yourself.  \n",
        "   -  they are already defined(predefined) by python's creators to make your life easier."
      ],
      "metadata": {
        "id": "K33nCBWLE9Ax"
      }
    },
    {
      "cell_type": "markdown",
      "source": [
        "4. can keywords be used as variables in pythons?\n",
        "   -  NO, you can not use keywords as variables names in pythons. because Keywords are resereved words in python that have a special meaning in python language."
      ],
      "metadata": {
        "id": "pOltpcqqHPDe"
      }
    },
    {
      "cell_type": "markdown",
      "source": [
        "5. what is mutability in python?\n",
        "  -  whether an object(value) can be changed(modified) after it is created.\n",
        "  -  if you can change the object it is called the mutable. and the process is called mutability."
      ],
      "metadata": {
        "id": "u9Utc4jsIlmL"
      }
    },
    {
      "cell_type": "markdown",
      "source": [
        "6.  Why are lists mutable, but tuples are immutable.  \n",
        "    -  when you created a list in python. it is implemented internally as a dynamic arrays. the designer of python are intended lists to be a general purpose, flexible container where you can add, remove, and modify element.therefore, lists are mutable.\n",
        "    - Tuples are designed to be fixed collection of items--often used to represent a record or a group of values that should not change.Once you created a tuple you can not change its contents.that's why tuples are immutable.  "
      ],
      "metadata": {
        "id": "LH12m36lK1Zh"
      }
    },
    {
      "cell_type": "markdown",
      "source": [
        "7.  What is the difference between “==” and “is” operators in Python.\n",
        " -  \"==\" checks the equality . if the values of two objects are equal.\n",
        " -  \"is\" checks the identity. if two variables exact same object in memory."
      ],
      "metadata": {
        "id": "W2Et3NVROwO8"
      }
    },
    {
      "cell_type": "markdown",
      "source": [
        "8. What are logical operators in Python.\n",
        " -  Logical operators are used to combine conditional statement and work with the boolen values (True/False)  \n",
        " -  python has three logical operators.  \n",
        " -  and , or , not"
      ],
      "metadata": {
        "id": "vKdayuWvQ6sJ"
      }
    },
    {
      "cell_type": "markdown",
      "source": [
        "9.  What is type casting in Python ?\n",
        " -  Typecasting(also called type conversion) means converting a value from one data type to another.  \n",
        " for example :  \n",
        "  int to float.  \n",
        "  string to float.  \n",
        "  list to tuple.\n"
      ],
      "metadata": {
        "id": "r3S7CgQQSOu_"
      }
    },
    {
      "cell_type": "markdown",
      "source": [
        "10. What is the difference between implicit and explicit type casting.  \n",
        " -  implicit typecasting >>  done automatically by python.  \n",
        " -  explicit typecasting >> done manually by the programmer.  "
      ],
      "metadata": {
        "id": "qfJU85bBTst6"
      }
    },
    {
      "cell_type": "markdown",
      "source": [
        "11. What is the purpose of conditional statements in Python?  \n",
        " -  they allow your programe to check a condition and execute-certain code if that condition is True.  \n",
        " -  The purpose of conditional statement is to make decision in your programe based on certain condition."
      ],
      "metadata": {
        "id": "BtBgRQXoU0gd"
      }
    },
    {
      "cell_type": "markdown",
      "source": [
        "12. How does the elif statement work.  \n",
        " -  elif stands for else if.\n",
        " -  it is used when you want to test multiple conditions, one after another.  \n",
        " - it comes after an if and before an else (optional).  \n",
        " - python check the conditions from top to botttom 1 if the if condition is true, it execute that block and skips the rest. 2 if the if is false, it checks the elif conditions, 3 if an elif is true, it execute that block and skips the rest. 4 if none of the if or elif conditions are ture, and there is an else, it execute the else block."
      ],
      "metadata": {
        "id": "ybRiW2xoX-4i"
      }
    },
    {
      "cell_type": "markdown",
      "source": [
        "13. What is the difference between for and while loops.  \n",
        " -  use for when you know the number of iterations or want to loop through a sequence.  \n",
        "  -  use while when you do not know the the exact number of iterations and it depends on some conditions during runtime."
      ],
      "metadata": {
        "id": "NpFSjuKbaVO8"
      }
    },
    {
      "cell_type": "code",
      "source": [],
      "metadata": {
        "id": "S_EXCHtmbn4J"
      },
      "execution_count": null,
      "outputs": []
    },
    {
      "cell_type": "markdown",
      "source": [
        "14. Describe a scenario where a while loop is more suitable than a for loop.  \n",
        " -  keep asking a user to enter a positive number until they do.  \n",
        " -  Here, we don't know the how many attempts the user will take. so while loop is ideal.\n",
        " -  A for loop is best when you know the iterations.  \n",
        "  -  But here, the number of attempts is unknown and depends on the user's input -> so while is better"
      ],
      "metadata": {
        "id": "NDGpsQMrbpCY"
      }
    },
    {
      "cell_type": "markdown",
      "source": [
        "#practical Questions."
      ],
      "metadata": {
        "id": "bFEFTucZelSG"
      }
    },
    {
      "cell_type": "code",
      "source": [
        "#Write a Python program to print \"Hello, World!\n",
        "print(\"Hello, world!\")"
      ],
      "metadata": {
        "colab": {
          "base_uri": "https://localhost:8080/"
        },
        "id": "qGeD6sGOd3pM",
        "outputId": "4453a65f-075e-4e62-cb17-94b78cfdabf8"
      },
      "execution_count": null,
      "outputs": [
        {
          "output_type": "stream",
          "name": "stdout",
          "text": [
            "Hello, world!\n"
          ]
        }
      ]
    },
    {
      "cell_type": "code",
      "source": [
        "#Write a Python program that displays your name and age.\n",
        "name=\"sarim rana \"\n",
        "age=\"20\"\n",
        "print(\"my name is\",name)\n",
        "print(\"i am\",age,\"years old\")"
      ],
      "metadata": {
        "colab": {
          "base_uri": "https://localhost:8080/"
        },
        "id": "zDOz2Jw8fKII",
        "outputId": "5cbe27a1-34b7-4c9f-b53c-43324f1e9c2e"
      },
      "execution_count": null,
      "outputs": [
        {
          "output_type": "stream",
          "name": "stdout",
          "text": [
            "my name is sarim rana \n",
            "i am 20 years old\n"
          ]
        }
      ]
    },
    {
      "cell_type": "code",
      "source": [
        "#Write code to print all the pre-defined keywords in Python using the keyword library\n",
        "import keyword\n",
        "print(\"python keywords are:\\n\")\n",
        "for kw in keyword.kwlist:\n",
        "  print(kw)"
      ],
      "metadata": {
        "colab": {
          "base_uri": "https://localhost:8080/"
        },
        "id": "x8VPcZPbfu_s",
        "outputId": "d75886b9-c82e-4fab-dea9-dc2826db636b"
      },
      "execution_count": null,
      "outputs": [
        {
          "output_type": "stream",
          "name": "stdout",
          "text": [
            "python keywords are:\n",
            "\n",
            "False\n",
            "None\n",
            "True\n",
            "and\n",
            "as\n",
            "assert\n",
            "async\n",
            "await\n",
            "break\n",
            "class\n",
            "continue\n",
            "def\n",
            "del\n",
            "elif\n",
            "else\n",
            "except\n",
            "finally\n",
            "for\n",
            "from\n",
            "global\n",
            "if\n",
            "import\n",
            "in\n",
            "is\n",
            "lambda\n",
            "nonlocal\n",
            "not\n",
            "or\n",
            "pass\n",
            "raise\n",
            "return\n",
            "try\n",
            "while\n",
            "with\n",
            "yield\n"
          ]
        }
      ]
    },
    {
      "cell_type": "code",
      "source": [
        "#Write a program that checks if a given word is a Python keyword.\n",
        "import keyword\n",
        "word= input (\"enter a word to check: \")\n",
        "if keyword.iskeyword(word):\n",
        "    print(f\"'{word}' is a python keyword.\")\n",
        "else:\n",
        "    print(f\"'{word}' is not a python keyword.\")"
      ],
      "metadata": {
        "colab": {
          "base_uri": "https://localhost:8080/"
        },
        "id": "eqGq7VaYhaY-",
        "outputId": "cd37e6a9-2b9b-4a39-a382-c050ae428328"
      },
      "execution_count": null,
      "outputs": [
        {
          "output_type": "stream",
          "name": "stdout",
          "text": [
            "enter a word to check: while\n",
            "'while' is a python keyword.\n"
          ]
        }
      ]
    },
    {
      "cell_type": "code",
      "source": [
        "#Create a list and tuple in Python, and demonstrate how attempting to change an element works differently for each.\n",
        "my_list = [10,20,30]\n",
        "my_tuple = (10,20,30)\n",
        "my_list[0] = 100\n",
        "print(\"modified list:\", my_list)\n",
        "my_tuple[0]=100\n",
        "print(\"modified tuple:\",my_tuple)"
      ],
      "metadata": {
        "colab": {
          "base_uri": "https://localhost:8080/",
          "height": 211
        },
        "id": "3OSP9BwT_OaW",
        "outputId": "1dbb86ec-5385-49b7-a21a-abf3307fe06c"
      },
      "execution_count": null,
      "outputs": [
        {
          "output_type": "stream",
          "name": "stdout",
          "text": [
            "modified list: [100, 20, 30]\n"
          ]
        },
        {
          "output_type": "error",
          "ename": "TypeError",
          "evalue": "'tuple' object does not support item assignment",
          "traceback": [
            "\u001b[0;31m---------------------------------------------------------------------------\u001b[0m",
            "\u001b[0;31mTypeError\u001b[0m                                 Traceback (most recent call last)",
            "\u001b[0;32m/tmp/ipython-input-14-2690519660.py\u001b[0m in \u001b[0;36m<cell line: 0>\u001b[0;34m()\u001b[0m\n\u001b[1;32m      4\u001b[0m \u001b[0mmy_list\u001b[0m\u001b[0;34m[\u001b[0m\u001b[0;36m0\u001b[0m\u001b[0;34m]\u001b[0m \u001b[0;34m=\u001b[0m \u001b[0;36m100\u001b[0m\u001b[0;34m\u001b[0m\u001b[0;34m\u001b[0m\u001b[0m\n\u001b[1;32m      5\u001b[0m \u001b[0mprint\u001b[0m\u001b[0;34m(\u001b[0m\u001b[0;34m\"modified list:\"\u001b[0m\u001b[0;34m,\u001b[0m \u001b[0mmy_list\u001b[0m\u001b[0;34m)\u001b[0m\u001b[0;34m\u001b[0m\u001b[0;34m\u001b[0m\u001b[0m\n\u001b[0;32m----> 6\u001b[0;31m \u001b[0mmy_tuple\u001b[0m\u001b[0;34m[\u001b[0m\u001b[0;36m0\u001b[0m\u001b[0;34m]\u001b[0m\u001b[0;34m=\u001b[0m\u001b[0;36m100\u001b[0m\u001b[0;34m\u001b[0m\u001b[0;34m\u001b[0m\u001b[0m\n\u001b[0m\u001b[1;32m      7\u001b[0m \u001b[0mprint\u001b[0m\u001b[0;34m(\u001b[0m\u001b[0;34m\"modified tuple:\"\u001b[0m\u001b[0;34m,\u001b[0m\u001b[0mmy_tuple\u001b[0m\u001b[0;34m)\u001b[0m\u001b[0;34m\u001b[0m\u001b[0;34m\u001b[0m\u001b[0m\n",
            "\u001b[0;31mTypeError\u001b[0m: 'tuple' object does not support item assignment"
          ]
        }
      ]
    },
    {
      "cell_type": "code",
      "source": [
        " #Write a function to demonstrate the behavior of mutable and immutable arguments.\n",
        " def test(mutable,immutable):\n",
        "  mutable.append(99)\n",
        "  immutable +=1\n",
        "  print(\"inside function:\")\n",
        "  print(\"mutable=\",mutable)\n",
        "  print(\"immutable=\",immutable)\n",
        "x= [1,2,3]\n",
        "y= 10\n",
        "\n",
        "print(\"before function call:\")\n",
        "print(\"x=\",x)\n",
        "print(\"y=\",y)\n",
        "test(x,y)\n",
        "print(\"after function call:\")\n",
        "print(\"x=\",x)\n",
        "print(\"y=\",y)\n",
        "\n",
        "\n",
        "\n"
      ],
      "metadata": {
        "colab": {
          "base_uri": "https://localhost:8080/"
        },
        "id": "8aEbv3WtCYO7",
        "outputId": "b180e6ee-c26d-45c9-dd60-01f4f82b9a3d"
      },
      "execution_count": null,
      "outputs": [
        {
          "output_type": "stream",
          "name": "stdout",
          "text": [
            "before function call:\n",
            "x= [1, 2, 3]\n",
            "y= 10\n",
            "inside function:\n",
            "mutable= [1, 2, 3, 99]\n",
            "immutable= 11\n",
            "after function call:\n",
            "x= [1, 2, 3, 99]\n",
            "y= 10\n"
          ]
        }
      ]
    },
    {
      "cell_type": "code",
      "source": [
        "#Write a program that performs basic arithmetic operations on two user-input numbers.\n",
        "num1=int(input(\"enter first number:\"))\n",
        "num2=int(input(\"enter second number:\"))\n",
        "print(\"addition:\",num1+num2)\n",
        "print(\"subtraction:\",num1-num2)\n",
        "print(\"multiplication:\",num1*num2)\n",
        "if num2!=0:\n",
        "  print(\"division:\",num1/num2)\n",
        "else:\n",
        "  print(\"division is not possible\")"
      ],
      "metadata": {
        "colab": {
          "base_uri": "https://localhost:8080/"
        },
        "id": "nqPwcK_tKSNr",
        "outputId": "1639aa96-e64d-4dff-86c9-37bd2c115a4e"
      },
      "execution_count": null,
      "outputs": [
        {
          "output_type": "stream",
          "name": "stdout",
          "text": [
            "enter first number:23\n",
            "enter second number:50\n",
            "addition: 73\n",
            "subtraction: -27\n",
            "multiplication: 1150\n",
            "division: 0.46\n"
          ]
        }
      ]
    },
    {
      "cell_type": "code",
      "source": [
        "#Write a program to demonstrate the use of logical operators.\n",
        "a=int(input(\"enter first number:\"))\n",
        "b=int(input(\"enter second number:\"))\n",
        "if a > 0 and b > 0:\n",
        "  print(\"both numbers are positive\")\n",
        "elif a > 0 or b > 0:\n",
        "  print(\"at least one number is positive\")\n",
        "else:\n",
        "  print(\"both numbers are negative\")\n",
        "if a % 2==0 or b==0:\n",
        "  print(\"at least one number is even.\")\n",
        "else:\n",
        "  print(\"both numbers are odd.\")\n",
        "if not (a==b):\n",
        "  print(\"the numbers are not equal.\")\n",
        "else:\n",
        "  print(\"the numbers are equal.\")\n"
      ],
      "metadata": {
        "colab": {
          "base_uri": "https://localhost:8080/"
        },
        "id": "8uNAR9bAMl42",
        "outputId": "fa22dbcb-fc7b-429a-c248-715e4c659acc"
      },
      "execution_count": null,
      "outputs": [
        {
          "output_type": "stream",
          "name": "stdout",
          "text": [
            "enter first number:6\n",
            "enter second number:7\n",
            "both numbers are positive\n",
            "at least one number is even.\n",
            "the numbers are not equal.\n"
          ]
        }
      ]
    },
    {
      "cell_type": "code",
      "source": [
        "#Write a Python program to convert user input from string to integer, float, and boolean types.\n",
        "user_input=input(\"enter a value:\")\n",
        "try:\n",
        "  int_value=int(user_input)\n",
        "  print(\"integer:\",int_value)\n",
        "except ValueError:\n",
        "  print(\"cannot convert to integer.\")\n",
        "try:\n",
        "  float_value=float(user_input)\n",
        "  print(\"float:\",float_value)\n",
        "except ValueError:\n",
        "  print(\"cannot conert to float.\")\n",
        "bool_value= bool(user_input)\n",
        "print(\"Boolean:\",bool_value)"
      ],
      "metadata": {
        "colab": {
          "base_uri": "https://localhost:8080/"
        },
        "id": "XXnbL381ONEN",
        "outputId": "79862bfb-21b6-4cf2-f252-5f280b56bfb3"
      },
      "execution_count": null,
      "outputs": [
        {
          "output_type": "stream",
          "name": "stdout",
          "text": [
            "enter a value:44\n",
            "integer: 44\n",
            "float: 44.0\n",
            "Boolean: True\n"
          ]
        }
      ]
    },
    {
      "cell_type": "code",
      "source": [
        " #Write code to demonstrate type casting with list elements.\n",
        " numbers = ['1','2','3','4','5']\n",
        " numbers=[int(x) for x in numbers]\n",
        " print(numbers)"
      ],
      "metadata": {
        "colab": {
          "base_uri": "https://localhost:8080/"
        },
        "id": "_DofnU3WPvrw",
        "outputId": "a4b92d69-9b17-4ad5-a4f6-405e937fc839"
      },
      "execution_count": null,
      "outputs": [
        {
          "output_type": "stream",
          "name": "stdout",
          "text": [
            "[1, 2, 3, 4, 5]\n"
          ]
        }
      ]
    },
    {
      "cell_type": "code",
      "source": [
        "#Write a program that checks if a number is positive, negative, or zero.\n",
        "num=int(input(\"enter a number:\"))\n",
        "if num>0:\n",
        "  print(\"the number is positive.\")\n",
        "elif num<0:\n",
        "  print(\"the number is negative.\")\n",
        "else:\n",
        "  print(\"the number is zero.\")"
      ],
      "metadata": {
        "colab": {
          "base_uri": "https://localhost:8080/"
        },
        "id": "nwyMd9gqTop9",
        "outputId": "ce008d4d-24be-4428-a2e7-cba9f99edf86"
      },
      "execution_count": null,
      "outputs": [
        {
          "output_type": "stream",
          "name": "stdout",
          "text": [
            "enter a number:0\n",
            "the number is zero.\n"
          ]
        }
      ]
    },
    {
      "cell_type": "code",
      "source": [
        "#Write a for loop to print numbers from 1 to 10.\n",
        "for i in range(1,11):\n",
        "  print(i)\n",
        "\n",
        "\n",
        "\n",
        "\n"
      ],
      "metadata": {
        "colab": {
          "base_uri": "https://localhost:8080/"
        },
        "id": "QQovHTaTUi95",
        "outputId": "52168dec-9262-4d00-a6d8-e2faf5a31e72"
      },
      "execution_count": null,
      "outputs": [
        {
          "output_type": "stream",
          "name": "stdout",
          "text": [
            "1\n",
            "2\n",
            "3\n",
            "4\n",
            "5\n",
            "6\n",
            "7\n",
            "8\n",
            "9\n",
            "10\n"
          ]
        }
      ]
    },
    {
      "cell_type": "code",
      "source": [
        "#Write a Python program to find the sum of all even numbers between 1 and 50.\n",
        "sum_even=0\n",
        "for i in range(1,51):\n",
        "    if i%2==0:\n",
        "      sum_even += i\n",
        "print(\"sum of even numbers from 0 to 50:\",sum_even)"
      ],
      "metadata": {
        "colab": {
          "base_uri": "https://localhost:8080/"
        },
        "id": "C9M7ob5iVE6s",
        "outputId": "78ee61a1-2477-4659-ff15-f8eb9a16f6d8"
      },
      "execution_count": null,
      "outputs": [
        {
          "output_type": "stream",
          "name": "stdout",
          "text": [
            "sum of even numbers from 0 to 50: 650\n"
          ]
        }
      ]
    },
    {
      "cell_type": "code",
      "source": [
        "#Write a program to reverse a string using a while loop\n",
        "string=\"hello\"\n",
        "reversed_str=\"\"\n",
        "i=len(string)-1\n",
        "while i>=0:\n",
        "  reversed_str +=string[i]\n",
        "  i-=1\n",
        "print(\"original string:\",string)\n",
        "print(\"reversed string:\",reversed_str)"
      ],
      "metadata": {
        "id": "WPAQs9HwWCkX",
        "colab": {
          "base_uri": "https://localhost:8080/"
        },
        "outputId": "a3b64195-055b-44e6-e313-8ecc7f91c2d1"
      },
      "execution_count": 34,
      "outputs": [
        {
          "output_type": "stream",
          "name": "stdout",
          "text": [
            "original string: hello\n",
            "reversed string: olleh\n"
          ]
        }
      ]
    },
    {
      "cell_type": "code",
      "source": [
        "# Write a Python program to calculate the factorial of a number provided by the user using a while loop.\n",
        "num=int(input(\"enter a number:\"))\n",
        "factorial=1\n",
        "i = 1\n",
        "if num<0:\n",
        "  print(\"factorial is not defined for negative number.\")\n",
        "else:\n",
        "     while i<=num:\n",
        "      factorial *=i\n",
        "      i +=1\n",
        "      print(f\"the factorial of {num} is {factorial}\")"
      ],
      "metadata": {
        "colab": {
          "base_uri": "https://localhost:8080/"
        },
        "id": "7IN0J4XWYCbu",
        "outputId": "0af0dce3-ae43-434b-c250-6b054d391954"
      },
      "execution_count": 36,
      "outputs": [
        {
          "output_type": "stream",
          "name": "stdout",
          "text": [
            "enter a number:3\n",
            "the factorial of 3 is 1\n",
            "the factorial of 3 is 2\n",
            "the factorial of 3 is 6\n"
          ]
        }
      ]
    },
    {
      "cell_type": "code",
      "source": [],
      "metadata": {
        "id": "9lSnq1H4Zt26"
      },
      "execution_count": null,
      "outputs": []
    }
  ]
}